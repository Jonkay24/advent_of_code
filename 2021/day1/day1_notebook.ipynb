{
 "cells": [
  {
   "cell_type": "code",
   "execution_count": 59,
   "id": "e624cc8e",
   "metadata": {},
   "outputs": [],
   "source": [
    "import pandas as pd"
   ]
  },
  {
   "cell_type": "code",
   "execution_count": 109,
   "id": "4c3ef18b",
   "metadata": {},
   "outputs": [],
   "source": [
    "#Import text data\n",
    "df = pd.read_csv('input.txt', header = None)\n",
    "df.columns = ['depth']"
   ]
  },
  {
   "cell_type": "code",
   "execution_count": 126,
   "id": "a5f15a31",
   "metadata": {},
   "outputs": [],
   "source": [
    "def depth_check (file: str):\n",
    "    df = pd.read_csv(f'{file}', header = None)\n",
    "    df.columns = ['depth']\n",
    "    #Gets the depth from the prior record\n",
    "    df['prior_depth'] = df['depth'].shift(1)\n",
    "    #checks whether depth is greater than prior depth\n",
    "    df['deeper'] = df['depth'] > df['prior_depth']\n",
    "    #Counts the true/false outcomes\n",
    "    output = df.groupby(by = 'deeper')['depth'].count()\n",
    "    return output\n",
    "    \n",
    "    \n",
    "\n",
    "    "
   ]
  },
  {
   "cell_type": "code",
   "execution_count": 124,
   "id": "2f3d510c",
   "metadata": {},
   "outputs": [
    {
     "data": {
      "text/plain": [
       "deeper\n",
       "False     479\n",
       "True     1521\n",
       "Name: depth, dtype: int64"
      ]
     },
     "execution_count": 124,
     "metadata": {},
     "output_type": "execute_result"
    }
   ],
   "source": [
    "depth_check('input.txt')"
   ]
  },
  {
   "cell_type": "code",
   "execution_count": 125,
   "id": "725e6565",
   "metadata": {},
   "outputs": [
    {
     "data": {
      "text/plain": [
       "deeper\n",
       "False    3\n",
       "True     7\n",
       "Name: depth, dtype: int64"
      ]
     },
     "execution_count": 125,
     "metadata": {},
     "output_type": "execute_result"
    }
   ],
   "source": [
    "depth_check('input_test.txt')"
   ]
  },
  {
   "cell_type": "markdown",
   "id": "63145792",
   "metadata": {},
   "source": [
    "# Part 2"
   ]
  },
  {
   "cell_type": "code",
   "execution_count": 141,
   "id": "bfc0336e",
   "metadata": {},
   "outputs": [],
   "source": [
    "def cumulative_depth_check (file:str):\n",
    "    df = pd.read_csv(f'{file}', header = None)\n",
    "    df.columns = ['depth']\n",
    "    #Sums the depth with prior 2 depth readings\n",
    "    df['3_obs_cumu_depth'] = df['depth'] + df['depth'].shift(1) + df['depth'].shift(2)\n",
    "    # Adds a new field with the prior cumulative depth\n",
    "    df['prior_cumu_depth'] = df['3_obs_cumu_depth'].shift(1)\n",
    "    #checks prior cumulative depth against current cumulative depth\n",
    "    df['deeper'] = df ['3_obs_cumu_depth'] > df ['prior_cumu_depth']\n",
    "    #Counts the true/false outcomes\n",
    "    output = df.groupby(by = 'deeper')['depth'].count()\n",
    "    return output\n"
   ]
  },
  {
   "cell_type": "code",
   "execution_count": 138,
   "id": "dd30832b",
   "metadata": {},
   "outputs": [
    {
     "data": {
      "text/plain": [
       "deeper\n",
       "False     457\n",
       "True     1543\n",
       "Name: depth, dtype: int64"
      ]
     },
     "execution_count": 138,
     "metadata": {},
     "output_type": "execute_result"
    }
   ],
   "source": [
    "cumulative_depth_check('input.txt')"
   ]
  },
  {
   "cell_type": "code",
   "execution_count": 140,
   "id": "bf7261f9",
   "metadata": {},
   "outputs": [
    {
     "data": {
      "text/plain": [
       "deeper\n",
       "False    5\n",
       "True     5\n",
       "Name: depth, dtype: int64"
      ]
     },
     "execution_count": 140,
     "metadata": {},
     "output_type": "execute_result"
    }
   ],
   "source": [
    "cumulative_depth_check('input_test.txt')"
   ]
  }
 ],
 "metadata": {
  "kernelspec": {
   "display_name": "Python 3",
   "language": "python",
   "name": "python3"
  },
  "language_info": {
   "codemirror_mode": {
    "name": "ipython",
    "version": 3
   },
   "file_extension": ".py",
   "mimetype": "text/x-python",
   "name": "python",
   "nbconvert_exporter": "python",
   "pygments_lexer": "ipython3",
   "version": "3.8.5"
  }
 },
 "nbformat": 4,
 "nbformat_minor": 5
}
