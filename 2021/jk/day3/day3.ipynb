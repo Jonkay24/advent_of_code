{
 "cells": [
  {
   "cell_type": "code",
   "execution_count": 1,
   "id": "42395063",
   "metadata": {},
   "outputs": [],
   "source": [
    "import numpy as np"
   ]
  },
  {
   "cell_type": "code",
   "execution_count": 2,
   "id": "fe2847c8",
   "metadata": {},
   "outputs": [],
   "source": [
    "with open('day3input.txt') as f:\n",
    "    mylist = f.read().splitlines()"
   ]
  },
  {
   "cell_type": "code",
   "execution_count": 3,
   "id": "d5fb509c",
   "metadata": {
    "scrolled": true
   },
   "outputs": [],
   "source": [
    "#Calculates the length of the first element in the string to see how many binary digits exist\n",
    "columns = np.arange(0,len(mylist[0]))"
   ]
  },
  {
   "cell_type": "code",
   "execution_count": 4,
   "id": "fddf562e",
   "metadata": {},
   "outputs": [],
   "source": [
    "def gamma(column):\n",
    "    result = []\n",
    "    #creates a list of all the characters in the column\n",
    "    for reading in mylist:\n",
    "        result.append(reading[column])\n",
    "    result_int = [int(x) for x in result]\n",
    "    #Sums all of the results from the selected string position\n",
    "    #If less than 0.5 0 was more common, if greater than 0.5 1 was more common.\n",
    "    if sum(result_int)/len(result_int) < 0.5:\n",
    "        output = '0'\n",
    "    else:\n",
    "        output = '1'\n",
    "    return output    \n",
    "    "
   ]
  },
  {
   "cell_type": "code",
   "execution_count": 5,
   "id": "864cd413",
   "metadata": {},
   "outputs": [],
   "source": [
    "gamma_binary = list()\n",
    "for column in columns:\n",
    "    gamma_binary.append(gamma(column))"
   ]
  },
  {
   "cell_type": "code",
   "execution_count": 6,
   "id": "e87024b3",
   "metadata": {},
   "outputs": [],
   "source": [
    "#The epsilon reading will be the inverse of the gamma reading\n",
    "def epsilon (reading):\n",
    "    if reading == '1':\n",
    "        output = '0'\n",
    "    else:\n",
    "        output = '1'\n",
    "    return output    "
   ]
  },
  {
   "cell_type": "code",
   "execution_count": 7,
   "id": "34148b9c",
   "metadata": {},
   "outputs": [],
   "source": [
    "epsilon_binary = list()\n",
    "for reading in gamma_binary:\n",
    "    epsilon_binary.append(epsilon(reading))"
   ]
  },
  {
   "cell_type": "code",
   "execution_count": 8,
   "id": "7df35030",
   "metadata": {},
   "outputs": [],
   "source": [
    "#Concatenates the most common numbers from the column into a single binary number\n",
    "eps_bin = ''.join(epsilon_binary)\n",
    "gam_bin = ''.join(gamma_binary)"
   ]
  },
  {
   "cell_type": "code",
   "execution_count": 9,
   "id": "2d46d7a6",
   "metadata": {},
   "outputs": [
    {
     "data": {
      "text/plain": [
       "3885894"
      ]
     },
     "execution_count": 9,
     "metadata": {},
     "output_type": "execute_result"
    }
   ],
   "source": [
    "#Converts the number into decimal & multiply\n",
    "int(eps_bin,2) * int(gam_bin,2)"
   ]
  },
  {
   "cell_type": "markdown",
   "id": "d02221d1",
   "metadata": {},
   "source": [
    "# Part 2"
   ]
  },
  {
   "cell_type": "code",
   "execution_count": 10,
   "id": "d8d6b1ea",
   "metadata": {},
   "outputs": [],
   "source": [
    "with open('day3input.txt') as f:\n",
    "    reading_list = f.read().splitlines()"
   ]
  },
  {
   "cell_type": "code",
   "execution_count": 11,
   "id": "b7de74cc",
   "metadata": {},
   "outputs": [],
   "source": [
    "def gas_reading(reading_list,column,gastype):\n",
    "    result = []\n",
    "    for reading in reading_list:\n",
    "        result.append(reading[column])\n",
    "    result_int = [int(x) for x in result]\n",
    "    #Oxygen works in the same way as gamma above picking the most common number in the column\n",
    "    if gastype == 'oxygen':   \n",
    "        if sum(result_int)/len(result_int) < 0.5:\n",
    "            output = '0'\n",
    "        else:\n",
    "            output = '1'\n",
    "    #Co2 picks the least common number in the column, so is the reverse of oxygen    \n",
    "    elif gastype == 'co2':\n",
    "        if sum(result_int)/len(result_int) < 0.5:\n",
    "            output = '1'\n",
    "        else:\n",
    "            output = '0'\n",
    "    else:\n",
    "        output = 'incorrect gas'\n",
    "    return output    "
   ]
  },
  {
   "cell_type": "code",
   "execution_count": 12,
   "id": "34cd9766",
   "metadata": {},
   "outputs": [],
   "source": [
    "#Iterates through the input list, if the length of the list is 1 the loop stops.\n",
    "def gas_output(gas,reading_list):\n",
    "    for column in columns:\n",
    "        if len(reading_list) == 1:\n",
    "            return reading_list\n",
    "        else:\n",
    "            reading_list = [element for element in reading_list if element[column] == gas_reading(reading_list,column,f'{gas}')]\n",
    "    return reading_list"
   ]
  },
  {
   "cell_type": "code",
   "execution_count": 13,
   "id": "d71232e2",
   "metadata": {},
   "outputs": [],
   "source": [
    "oxygen = ''.join(gas_output('oxygen',reading_list))\n",
    "co2 = ''.join(gas_output('co2',reading_list))"
   ]
  },
  {
   "cell_type": "code",
   "execution_count": 14,
   "id": "5ac3cade",
   "metadata": {},
   "outputs": [
    {
     "data": {
      "text/plain": [
       "4375225"
      ]
     },
     "execution_count": 14,
     "metadata": {},
     "output_type": "execute_result"
    }
   ],
   "source": [
    "int(oxygen,2) * int(co2,2)"
   ]
  }
 ],
 "metadata": {
  "kernelspec": {
   "display_name": "Python 3",
   "language": "python",
   "name": "python3"
  },
  "language_info": {
   "codemirror_mode": {
    "name": "ipython",
    "version": 3
   },
   "file_extension": ".py",
   "mimetype": "text/x-python",
   "name": "python",
   "nbconvert_exporter": "python",
   "pygments_lexer": "ipython3",
   "version": "3.8.5"
  }
 },
 "nbformat": 4,
 "nbformat_minor": 5
}
