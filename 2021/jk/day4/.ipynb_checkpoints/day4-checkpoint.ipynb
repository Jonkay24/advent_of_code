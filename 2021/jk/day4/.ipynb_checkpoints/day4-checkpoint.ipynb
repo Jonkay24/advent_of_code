{
 "cells": [
  {
   "cell_type": "code",
   "execution_count": 25,
   "id": "889fc996",
   "metadata": {},
   "outputs": [],
   "source": [
    "with open('day4test.txt') as f:\n",
    "    test_list = f.readline()"
   ]
  },
  {
   "cell_type": "code",
   "execution_count": 28,
   "id": "48b57dc9",
   "metadata": {},
   "outputs": [
    {
     "data": {
      "text/plain": [
       "'7,4,9,5,11,17,23,2,0,14,21,24,10,16,13,6,15,25,12,22,18,20,8,19,3,26,1\\n'"
      ]
     },
     "execution_count": 28,
     "metadata": {},
     "output_type": "execute_result"
    }
   ],
   "source": [
    "test_list"
   ]
  },
  {
   "cell_type": "code",
   "execution_count": 29,
   "id": "477f9a0c",
   "metadata": {},
   "outputs": [
    {
     "data": {
      "text/plain": [
       "'7,4,9,5,11,17,23,2,0,14,21,24,10,16,13,6,15,25,12,22,18,20,8,19,3,26,1'"
      ]
     },
     "execution_count": 29,
     "metadata": {},
     "output_type": "execute_result"
    }
   ],
   "source": [
    "test_list.strip()"
   ]
  },
  {
   "cell_type": "code",
   "execution_count": null,
   "id": "5dea9784",
   "metadata": {},
   "outputs": [],
   "source": []
  },
  {
   "cell_type": "code",
   "execution_count": 23,
   "id": "ed997a30",
   "metadata": {},
   "outputs": [],
   "source": [
    "list_of_lists =[]\n",
    "with open('day4test.txt') as f:\n",
    "    for line in f:\n",
    "        inner_list = [elt.strip() for elt in line.split(',')]\n",
    "        list_of_lists.append(inner_list)"
   ]
  },
  {
   "cell_type": "code",
   "execution_count": 24,
   "id": "6d074336",
   "metadata": {},
   "outputs": [
    {
     "data": {
      "text/plain": [
       "[['7',\n",
       "  '4',\n",
       "  '9',\n",
       "  '5',\n",
       "  '11',\n",
       "  '17',\n",
       "  '23',\n",
       "  '2',\n",
       "  '0',\n",
       "  '14',\n",
       "  '21',\n",
       "  '24',\n",
       "  '10',\n",
       "  '16',\n",
       "  '13',\n",
       "  '6',\n",
       "  '15',\n",
       "  '25',\n",
       "  '12',\n",
       "  '22',\n",
       "  '18',\n",
       "  '20',\n",
       "  '8',\n",
       "  '19',\n",
       "  '3',\n",
       "  '26',\n",
       "  '1'],\n",
       " [''],\n",
       " ['22 13 17 11  0'],\n",
       " ['8  2 23  4 24'],\n",
       " ['21  9 14 16  7'],\n",
       " ['6 10  3 18  5'],\n",
       " ['1 12 20 15 19'],\n",
       " [''],\n",
       " ['3 15  0  2 22'],\n",
       " ['9 18 13 17  5'],\n",
       " ['19  8  7 25 23'],\n",
       " ['20 11 10 24  4'],\n",
       " ['14 21 16 12  6'],\n",
       " [''],\n",
       " ['14 21 17 24  4'],\n",
       " ['10 16 15  9 19'],\n",
       " ['18  8 23 26 20'],\n",
       " ['22 11 13  6  5'],\n",
       " ['2  0 12  3  7']]"
      ]
     },
     "execution_count": 24,
     "metadata": {},
     "output_type": "execute_result"
    }
   ],
   "source": [
    "list_of_lists"
   ]
  },
  {
   "cell_type": "code",
   "execution_count": 2,
   "id": "faad5480",
   "metadata": {},
   "outputs": [
    {
     "data": {
      "text/plain": [
       "['7,4,9,5,11,17,23,2,0,14,21,24,10,16,13,6,15,25,12,22,18,20,8,19,3,26,1',\n",
       " '',\n",
       " '22 13 17 11  0',\n",
       " ' 8  2 23  4 24',\n",
       " '21  9 14 16  7',\n",
       " ' 6 10  3 18  5',\n",
       " ' 1 12 20 15 19',\n",
       " '',\n",
       " ' 3 15  0  2 22',\n",
       " ' 9 18 13 17  5',\n",
       " '19  8  7 25 23',\n",
       " '20 11 10 24  4',\n",
       " '14 21 16 12  6',\n",
       " '',\n",
       " '14 21 17 24  4',\n",
       " '10 16 15  9 19',\n",
       " '18  8 23 26 20',\n",
       " '22 11 13  6  5',\n",
       " ' 2  0 12  3  7']"
      ]
     },
     "execution_count": 2,
     "metadata": {},
     "output_type": "execute_result"
    }
   ],
   "source": [
    "mylist"
   ]
  },
  {
   "cell_type": "code",
   "execution_count": 6,
   "id": "d8f6125b",
   "metadata": {},
   "outputs": [],
   "source": [
    "input_numbers = mylist[0]"
   ]
  },
  {
   "cell_type": "code",
   "execution_count": 7,
   "id": "6cb84d78",
   "metadata": {},
   "outputs": [
    {
     "data": {
      "text/plain": [
       "'7,4,9,5,11,17,23,2,0,14,21,24,10,16,13,6,15,25,12,22,18,20,8,19,3,26,1'"
      ]
     },
     "execution_count": 7,
     "metadata": {},
     "output_type": "execute_result"
    }
   ],
   "source": [
    "input_numbers"
   ]
  },
  {
   "cell_type": "code",
   "execution_count": 12,
   "id": "d41edee8",
   "metadata": {},
   "outputs": [],
   "source": [
    "#Each matrix requires 6 entries in the list. 1 blank entry & 5 rows of numbers.\n",
    "#Total number of matrices is length of the list, - 1 for the input numbers\n",
    "# Divided by 6\n",
    "number_of_matrices = (len(mylist) - 1) / 6 "
   ]
  },
  {
   "cell_type": "code",
   "execution_count": 13,
   "id": "9bee9c1a",
   "metadata": {},
   "outputs": [
    {
     "data": {
      "text/plain": [
       "3.0"
      ]
     },
     "execution_count": 13,
     "metadata": {},
     "output_type": "execute_result"
    }
   ],
   "source": [
    "number_of_matrices"
   ]
  },
  {
   "cell_type": "code",
   "execution_count": 15,
   "id": "e1638cba",
   "metadata": {},
   "outputs": [
    {
     "data": {
      "text/plain": [
       "'22 13 17 11  0'"
      ]
     },
     "execution_count": 15,
     "metadata": {},
     "output_type": "execute_result"
    }
   ],
   "source": [
    "mylist[2]"
   ]
  }
 ],
 "metadata": {
  "kernelspec": {
   "display_name": "Python 3",
   "language": "python",
   "name": "python3"
  },
  "language_info": {
   "codemirror_mode": {
    "name": "ipython",
    "version": 3
   },
   "file_extension": ".py",
   "mimetype": "text/x-python",
   "name": "python",
   "nbconvert_exporter": "python",
   "pygments_lexer": "ipython3",
   "version": "3.8.5"
  }
 },
 "nbformat": 4,
 "nbformat_minor": 5
}
