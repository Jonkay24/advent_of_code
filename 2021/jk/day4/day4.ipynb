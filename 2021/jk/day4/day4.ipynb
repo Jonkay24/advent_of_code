{
 "cells": [
  {
   "cell_type": "code",
   "execution_count": 1,
   "id": "4f08f61e",
   "metadata": {},
   "outputs": [],
   "source": [
    "import numpy as np"
   ]
  },
  {
   "cell_type": "code",
   "execution_count": 2,
   "id": "c22bd4e4",
   "metadata": {},
   "outputs": [],
   "source": [
    "list_of_lists =[]\n",
    "with open('day4test.txt') as f:\n",
    "    for line in f:\n",
    "        inner_list = [elt.strip() for elt in line.split()]\n",
    "        list_of_lists.append(inner_list)"
   ]
  },
  {
   "cell_type": "code",
   "execution_count": 3,
   "id": "b9dcb51f",
   "metadata": {},
   "outputs": [
    {
     "data": {
      "text/plain": [
       "['7',\n",
       " '4',\n",
       " '9',\n",
       " '5',\n",
       " '11',\n",
       " '17',\n",
       " '23',\n",
       " '2',\n",
       " '0',\n",
       " '14',\n",
       " '21',\n",
       " '24',\n",
       " '10',\n",
       " '16',\n",
       " '13',\n",
       " '6',\n",
       " '15',\n",
       " '25',\n",
       " '12',\n",
       " '22',\n",
       " '18',\n",
       " '20',\n",
       " '8',\n",
       " '19',\n",
       " '3',\n",
       " '26',\n",
       " '1']"
      ]
     },
     "execution_count": 3,
     "metadata": {},
     "output_type": "execute_result"
    }
   ],
   "source": [
    "input_numbers = list_of_lists[0]\n",
    "#List of input numbers\n",
    "input_list = input_numbers[0].split(',')\n",
    "input_list"
   ]
  },
  {
   "cell_type": "code",
   "execution_count": 4,
   "id": "d03faa9c",
   "metadata": {},
   "outputs": [],
   "source": [
    "#List of lists containing the matrices.\n",
    "matrices = list_of_lists[2:]"
   ]
  },
  {
   "cell_type": "code",
   "execution_count": 6,
   "id": "9bdeacf8",
   "metadata": {},
   "outputs": [
    {
     "data": {
      "text/plain": [
       "3"
      ]
     },
     "execution_count": 6,
     "metadata": {},
     "output_type": "execute_result"
    }
   ],
   "source": [
    "number_of_matrices = int((len(list_of_lists) - 1) / 6)\n",
    "number_of_matrices"
   ]
  },
  {
   "cell_type": "code",
   "execution_count": 248,
   "id": "8ab7e862",
   "metadata": {},
   "outputs": [
    {
     "data": {
      "text/plain": [
       "[['22', '13', '17', '11', '0'],\n",
       " ['8', '2', '23', '4', '24'],\n",
       " ['21', '9', '14', '16', '7'],\n",
       " ['6', '10', '3', '18', '5'],\n",
       " ['1', '12', '20', '15', '19'],\n",
       " [],\n",
       " ['3', '15', '0', '2', '22'],\n",
       " ['9', '18', '13', '17', '5'],\n",
       " ['19', '8', '7', '25', '23'],\n",
       " ['20', '11', '10', '24', '4'],\n",
       " ['14', '21', '16', '12', '6'],\n",
       " [],\n",
       " ['14', '21', '17', '24', '4'],\n",
       " ['10', '16', '15', '9', '19'],\n",
       " ['18', '8', '23', '26', '20'],\n",
       " ['22', '11', '13', '6', '5'],\n",
       " ['2', '0', '12', '3', '7']]"
      ]
     },
     "execution_count": 248,
     "metadata": {},
     "output_type": "execute_result"
    }
   ],
   "source": [
    "matrices"
   ]
  },
  {
   "cell_type": "code",
   "execution_count": 249,
   "id": "9310919c",
   "metadata": {},
   "outputs": [
    {
     "name": "stdout",
     "output_type": "stream",
     "text": [
      "[(0, '22'), (1, '13'), (2, '17'), (3, '11'), (4, '0')]\n"
     ]
    }
   ],
   "source": [
    "print(list(enumerate(matrices[0])))"
   ]
  },
  {
   "cell_type": "code",
   "execution_count": 250,
   "id": "207c71ff",
   "metadata": {},
   "outputs": [
    {
     "data": {
      "text/plain": [
       "['7',\n",
       " '4',\n",
       " '9',\n",
       " '5',\n",
       " '11',\n",
       " '17',\n",
       " '23',\n",
       " '2',\n",
       " '0',\n",
       " '14',\n",
       " '21',\n",
       " '24',\n",
       " '10',\n",
       " '16',\n",
       " '13',\n",
       " '6',\n",
       " '15',\n",
       " '25',\n",
       " '12',\n",
       " '22',\n",
       " '18',\n",
       " '20',\n",
       " '8',\n",
       " '19',\n",
       " '3',\n",
       " '26',\n",
       " '1']"
      ]
     },
     "execution_count": 250,
     "metadata": {},
     "output_type": "execute_result"
    }
   ],
   "source": [
    "input_list"
   ]
  },
  {
   "cell_type": "code",
   "execution_count": 251,
   "id": "38e483e1",
   "metadata": {
    "scrolled": true
   },
   "outputs": [
    {
     "name": "stdout",
     "output_type": "stream",
     "text": [
      "22\n",
      "13\n",
      "17\n",
      "11\n",
      "0\n",
      "8\n",
      "2\n",
      "23\n",
      "4\n",
      "24\n",
      "21\n",
      "9\n",
      "14\n",
      "16\n",
      "7\n",
      "6\n",
      "10\n",
      "3\n",
      "18\n",
      "5\n",
      "1\n",
      "12\n",
      "20\n",
      "15\n",
      "19\n",
      "3\n",
      "15\n",
      "0\n",
      "2\n",
      "22\n",
      "9\n",
      "18\n",
      "13\n",
      "17\n",
      "5\n",
      "19\n",
      "8\n",
      "7\n",
      "25\n",
      "23\n",
      "20\n",
      "11\n",
      "10\n",
      "24\n",
      "4\n",
      "14\n",
      "21\n",
      "16\n",
      "12\n",
      "6\n",
      "14\n",
      "21\n",
      "17\n",
      "24\n",
      "4\n",
      "10\n",
      "16\n",
      "15\n",
      "9\n",
      "19\n",
      "18\n",
      "8\n",
      "23\n",
      "26\n",
      "20\n",
      "22\n",
      "11\n",
      "13\n",
      "6\n",
      "5\n",
      "2\n",
      "0\n",
      "12\n",
      "3\n",
      "7\n"
     ]
    }
   ],
   "source": [
    "for i , row in enumerate(matrices):\n",
    "    for j, value in enumerate(row):\n",
    "        print(value)\n",
    "      "
   ]
  },
  {
   "cell_type": "code",
   "execution_count": 252,
   "id": "cab622d3",
   "metadata": {},
   "outputs": [],
   "source": [
    "#Iterating through all of the rows/columns if a value on the input list is met then the matrix is updated to True\n",
    "#We need to test after each update it either all of the row or all of the column is true.\n",
    "for input_number in input_list:\n",
    "    for i , row in enumerate(matrices):\n",
    "        for j, value in enumerate(row):\n",
    "            if value == input_number:\n",
    "                matrices[i][j] = True\n",
    "            else:\n",
    "                pass\n",
    "            if all(matrices[i]) or all(matrices[j]):\n",
    "                break"
   ]
  },
  {
   "cell_type": "code",
   "execution_count": 7,
   "id": "c6895fed",
   "metadata": {},
   "outputs": [
    {
     "data": {
      "text/plain": [
       "[['22', '13', '17', '11', '0'],\n",
       " ['8', '2', '23', '4', '24'],\n",
       " ['21', '9', '14', '16', '7'],\n",
       " ['6', '10', '3', '18', '5'],\n",
       " ['1', '12', '20', '15', '19'],\n",
       " [],\n",
       " ['3', '15', '0', '2', '22'],\n",
       " ['9', '18', '13', '17', '5'],\n",
       " ['19', '8', '7', '25', '23'],\n",
       " ['20', '11', '10', '24', '4'],\n",
       " ['14', '21', '16', '12', '6'],\n",
       " [],\n",
       " ['14', '21', '17', '24', '4'],\n",
       " ['10', '16', '15', '9', '19'],\n",
       " ['18', '8', '23', '26', '20'],\n",
       " ['22', '11', '13', '6', '5'],\n",
       " ['2', '0', '12', '3', '7']]"
      ]
     },
     "execution_count": 7,
     "metadata": {},
     "output_type": "execute_result"
    }
   ],
   "source": [
    "matrices"
   ]
  },
  {
   "cell_type": "code",
   "execution_count": 69,
   "id": "717c9896",
   "metadata": {},
   "outputs": [],
   "source": [
    "list_of_matrices = np.zeros((number_of_matrices,5,5))"
   ]
  },
  {
   "cell_type": "code",
   "execution_count": 70,
   "id": "d3ba914f",
   "metadata": {
    "scrolled": true
   },
   "outputs": [
    {
     "data": {
      "text/plain": [
       "array([[[0., 0., 0., 0., 0.],\n",
       "        [0., 0., 0., 0., 0.],\n",
       "        [0., 0., 0., 0., 0.],\n",
       "        [0., 0., 0., 0., 0.],\n",
       "        [0., 0., 0., 0., 0.]],\n",
       "\n",
       "       [[0., 0., 0., 0., 0.],\n",
       "        [0., 0., 0., 0., 0.],\n",
       "        [0., 0., 0., 0., 0.],\n",
       "        [0., 0., 0., 0., 0.],\n",
       "        [0., 0., 0., 0., 0.]],\n",
       "\n",
       "       [[0., 0., 0., 0., 0.],\n",
       "        [0., 0., 0., 0., 0.],\n",
       "        [0., 0., 0., 0., 0.],\n",
       "        [0., 0., 0., 0., 0.],\n",
       "        [0., 0., 0., 0., 0.]]])"
      ]
     },
     "execution_count": 70,
     "metadata": {},
     "output_type": "execute_result"
    }
   ],
   "source": [
    "list_of_matrices"
   ]
  },
  {
   "cell_type": "code",
   "execution_count": 255,
   "id": "8e7dbac3",
   "metadata": {},
   "outputs": [
    {
     "data": {
      "text/plain": [
       "[[True, '13', '17', '11', '0'],\n",
       " [True, '2', '23', '4', '24'],\n",
       " [True, '9', '14', '16', '7'],\n",
       " [True, '10', '3', '18', '5'],\n",
       " [True, '12', '20', '15', '19'],\n",
       " [],\n",
       " [True, '15', '0', '2', '22'],\n",
       " [True, '18', '13', '17', '5'],\n",
       " [True, '8', '7', '25', '23'],\n",
       " [True, '11', '10', '24', '4'],\n",
       " [True, '21', '16', '12', '6'],\n",
       " [],\n",
       " [True, '21', '17', '24', '4'],\n",
       " [True, '16', '15', '9', '19'],\n",
       " [True, '8', '23', '26', '20'],\n",
       " [True, '11', '13', '6', '5'],\n",
       " [True, '0', '12', '3', '7']]"
      ]
     },
     "execution_count": 255,
     "metadata": {},
     "output_type": "execute_result"
    }
   ],
   "source": [
    "matrices"
   ]
  },
  {
   "cell_type": "code",
   "execution_count": 256,
   "id": "14591628",
   "metadata": {},
   "outputs": [
    {
     "data": {
      "text/plain": [
       "[[True, '13', '17', '11', '0'],\n",
       " [True, '2', '23', '4', '24'],\n",
       " [True, '9', '14', '16', '7'],\n",
       " [True, '10', '3', '18', '5'],\n",
       " [True, '12', '20', '15', '19']]"
      ]
     },
     "execution_count": 256,
     "metadata": {},
     "output_type": "execute_result"
    }
   ],
   "source": [
    "matrices[0:5]"
   ]
  },
  {
   "cell_type": "code",
   "execution_count": 257,
   "id": "06535c32",
   "metadata": {},
   "outputs": [
    {
     "data": {
      "text/plain": [
       "array([[[0., 0., 0., 0., 0.],\n",
       "        [0., 0., 0., 0., 0.],\n",
       "        [0., 0., 0., 0., 0.],\n",
       "        [0., 0., 0., 0., 0.],\n",
       "        [0., 0., 0., 0., 0.]],\n",
       "\n",
       "       [[0., 0., 0., 0., 0.],\n",
       "        [0., 0., 0., 0., 0.],\n",
       "        [0., 0., 0., 0., 0.],\n",
       "        [0., 0., 0., 0., 0.],\n",
       "        [0., 0., 0., 0., 0.]],\n",
       "\n",
       "       [[0., 0., 0., 0., 0.],\n",
       "        [0., 0., 0., 0., 0.],\n",
       "        [0., 0., 0., 0., 0.],\n",
       "        [0., 0., 0., 0., 0.],\n",
       "        [0., 0., 0., 0., 0.]]])"
      ]
     },
     "execution_count": 257,
     "metadata": {},
     "output_type": "execute_result"
    }
   ],
   "source": [
    "list_of_matrices"
   ]
  },
  {
   "cell_type": "code",
   "execution_count": 53,
   "id": "4e651e9f",
   "metadata": {},
   "outputs": [
    {
     "data": {
      "text/plain": [
       "[['22', '13', '17', '11', '0'],\n",
       " ['8', '2', '23', '4', '24'],\n",
       " ['21', '9', '14', '16', '7'],\n",
       " ['6', '10', '3', '18', '5'],\n",
       " ['1', '12', '20', '15', '19']]"
      ]
     },
     "execution_count": 53,
     "metadata": {},
     "output_type": "execute_result"
    }
   ],
   "source": [
    "matrices[0:5]"
   ]
  },
  {
   "cell_type": "code",
   "execution_count": 89,
   "id": "3bde02c8",
   "metadata": {},
   "outputs": [
    {
     "name": "stdout",
     "output_type": "stream",
     "text": [
      "5\n"
     ]
    },
    {
     "ename": "ValueError",
     "evalue": "setting an array element with a sequence. The requested array has an inhomogeneous shape after 1 dimensions. The detected shape was (5,) + inhomogeneous part.",
     "output_type": "error",
     "traceback": [
      "\u001b[0;31m---------------------------------------------------------------------------\u001b[0m",
      "\u001b[0;31mValueError\u001b[0m                                Traceback (most recent call last)",
      "\u001b[0;32m<ipython-input-89-d6e7d8711208>\u001b[0m in \u001b[0;36m<module>\u001b[0;34m\u001b[0m\n\u001b[1;32m      3\u001b[0m \u001b[0;32mfor\u001b[0m \u001b[0mmatrix\u001b[0m \u001b[0;32min\u001b[0m \u001b[0mlist_of_matrices\u001b[0m\u001b[0;34m:\u001b[0m\u001b[0;34m\u001b[0m\u001b[0;34m\u001b[0m\u001b[0m\n\u001b[1;32m      4\u001b[0m     \u001b[0mmatrix\u001b[0m \u001b[0;34m=\u001b[0m \u001b[0mmatrices\u001b[0m\u001b[0;34m[\u001b[0m\u001b[0mcount_index\u001b[0m\u001b[0;34m:\u001b[0m\u001b[0mcount_index\u001b[0m \u001b[0;34m+\u001b[0m \u001b[0;36m5\u001b[0m\u001b[0;34m]\u001b[0m\u001b[0;34m\u001b[0m\u001b[0;34m\u001b[0m\u001b[0m\n\u001b[0;32m----> 5\u001b[0;31m     \u001b[0mlist_of_matrices\u001b[0m\u001b[0;34m[\u001b[0m\u001b[0mcount_matrix\u001b[0m\u001b[0;34m]\u001b[0m \u001b[0;34m=\u001b[0m \u001b[0mmatrix\u001b[0m\u001b[0;34m\u001b[0m\u001b[0;34m\u001b[0m\u001b[0m\n\u001b[0m\u001b[1;32m      6\u001b[0m     \u001b[0mcount_index\u001b[0m \u001b[0;34m=\u001b[0m \u001b[0mcount_index\u001b[0m \u001b[0;34m+\u001b[0m \u001b[0;36m5\u001b[0m\u001b[0;34m\u001b[0m\u001b[0;34m\u001b[0m\u001b[0m\n\u001b[1;32m      7\u001b[0m     \u001b[0mcount_matrix\u001b[0m \u001b[0;34m=\u001b[0m \u001b[0mcount_matrix\u001b[0m \u001b[0;34m+\u001b[0m \u001b[0;36m1\u001b[0m\u001b[0;34m\u001b[0m\u001b[0;34m\u001b[0m\u001b[0m\n",
      "\u001b[0;31mValueError\u001b[0m: setting an array element with a sequence. The requested array has an inhomogeneous shape after 1 dimensions. The detected shape was (5,) + inhomogeneous part."
     ]
    }
   ],
   "source": [
    "count_index = 0\n",
    "count_matrix = 0\n",
    "for matrix in list_of_matrices:\n",
    "    matrix = matrices[count_index:count_index + 5]\n",
    "    list_of_matrices[count_matrix] = matrix\n",
    "    count_index = count_index + 5\n",
    "    count_matrix = count_matrix + 1\n",
    "    print(count)"
   ]
  },
  {
   "cell_type": "code",
   "execution_count": 86,
   "id": "4b80988b",
   "metadata": {},
   "outputs": [
    {
     "data": {
      "text/plain": [
       "[['8', '2', '23', '4', '24'],\n",
       " ['21', '9', '14', '16', '7'],\n",
       " ['6', '10', '3', '18', '5'],\n",
       " ['1', '12', '20', '15', '19'],\n",
       " []]"
      ]
     },
     "execution_count": 86,
     "metadata": {},
     "output_type": "execute_result"
    }
   ],
   "source": [
    "matrix"
   ]
  },
  {
   "cell_type": "code",
   "execution_count": 85,
   "id": "6573e2bf",
   "metadata": {
    "collapsed": true
   },
   "outputs": [
    {
     "data": {
      "text/plain": [
       "array([[[22., 13., 17., 11.,  0.],\n",
       "        [ 8.,  2., 23.,  4., 24.],\n",
       "        [21.,  9., 14., 16.,  7.],\n",
       "        [ 6., 10.,  3., 18.,  5.],\n",
       "        [ 1., 12., 20., 15., 19.]],\n",
       "\n",
       "       [[ 0.,  0.,  0.,  0.,  0.],\n",
       "        [ 0.,  0.,  0.,  0.,  0.],\n",
       "        [ 0.,  0.,  0.,  0.,  0.],\n",
       "        [ 0.,  0.,  0.,  0.,  0.],\n",
       "        [ 0.,  0.,  0.,  0.,  0.]],\n",
       "\n",
       "       [[ 0.,  0.,  0.,  0.,  0.],\n",
       "        [ 0.,  0.,  0.,  0.,  0.],\n",
       "        [ 0.,  0.,  0.,  0.,  0.],\n",
       "        [ 0.,  0.,  0.,  0.,  0.],\n",
       "        [ 0.,  0.,  0.,  0.,  0.]]])"
      ]
     },
     "execution_count": 85,
     "metadata": {},
     "output_type": "execute_result"
    }
   ],
   "source": [
    "list_of_matrices"
   ]
  },
  {
   "cell_type": "code",
   "execution_count": 81,
   "id": "82ae4a70",
   "metadata": {},
   "outputs": [
    {
     "data": {
      "text/plain": [
       "[['22', '13', '17', '11', '0'],\n",
       " ['8', '2', '23', '4', '24'],\n",
       " ['21', '9', '14', '16', '7'],\n",
       " ['6', '10', '3', '18', '5'],\n",
       " ['1', '12', '20', '15', '19']]"
      ]
     },
     "execution_count": 81,
     "metadata": {},
     "output_type": "execute_result"
    }
   ],
   "source": [
    "matrix"
   ]
  },
  {
   "cell_type": "code",
   "execution_count": 82,
   "id": "911a1117",
   "metadata": {},
   "outputs": [
    {
     "data": {
      "text/plain": [
       "array([[[22., 13., 17., 11.,  0.],\n",
       "        [ 8.,  2., 23.,  4., 24.],\n",
       "        [21.,  9., 14., 16.,  7.],\n",
       "        [ 6., 10.,  3., 18.,  5.],\n",
       "        [ 1., 12., 20., 15., 19.]],\n",
       "\n",
       "       [[ 0.,  0.,  0.,  0.,  0.],\n",
       "        [ 0.,  0.,  0.,  0.,  0.],\n",
       "        [ 0.,  0.,  0.,  0.,  0.],\n",
       "        [ 0.,  0.,  0.,  0.,  0.],\n",
       "        [ 0.,  0.,  0.,  0.,  0.]],\n",
       "\n",
       "       [[ 0.,  0.,  0.,  0.,  0.],\n",
       "        [ 0.,  0.,  0.,  0.,  0.],\n",
       "        [ 0.,  0.,  0.,  0.,  0.],\n",
       "        [ 0.,  0.,  0.,  0.,  0.],\n",
       "        [ 0.,  0.,  0.,  0.,  0.]]])"
      ]
     },
     "execution_count": 82,
     "metadata": {},
     "output_type": "execute_result"
    }
   ],
   "source": [
    "list_of_matrices"
   ]
  },
  {
   "cell_type": "code",
   "execution_count": 66,
   "id": "402f99c0",
   "metadata": {},
   "outputs": [],
   "source": [
    "count = 0\n",
    "for matrix in list_of_matrices:\n",
    "    list_of_matrices[count] = matrices[count:count + 5]\n",
    "    count = count + 1 "
   ]
  },
  {
   "cell_type": "code",
   "execution_count": 67,
   "id": "fae860f6",
   "metadata": {},
   "outputs": [
    {
     "data": {
      "text/plain": [
       "[[['22', '13', '17', '11', '0'],\n",
       "  ['8', '2', '23', '4', '24'],\n",
       "  ['21', '9', '14', '16', '7'],\n",
       "  ['6', '10', '3', '18', '5'],\n",
       "  ['1', '12', '20', '15', '19']],\n",
       " [['8', '2', '23', '4', '24'],\n",
       "  ['21', '9', '14', '16', '7'],\n",
       "  ['6', '10', '3', '18', '5'],\n",
       "  ['1', '12', '20', '15', '19'],\n",
       "  []],\n",
       " [['21', '9', '14', '16', '7'],\n",
       "  ['6', '10', '3', '18', '5'],\n",
       "  ['1', '12', '20', '15', '19'],\n",
       "  [],\n",
       "  ['3', '15', '0', '2', '22']],\n",
       " [['6', '10', '3', '18', '5'],\n",
       "  ['1', '12', '20', '15', '19'],\n",
       "  [],\n",
       "  ['3', '15', '0', '2', '22'],\n",
       "  ['9', '18', '13', '17', '5']],\n",
       " [['1', '12', '20', '15', '19'],\n",
       "  [],\n",
       "  ['3', '15', '0', '2', '22'],\n",
       "  ['9', '18', '13', '17', '5'],\n",
       "  ['19', '8', '7', '25', '23']]]"
      ]
     },
     "execution_count": 67,
     "metadata": {},
     "output_type": "execute_result"
    }
   ],
   "source": [
    "list_of_matrices"
   ]
  },
  {
   "cell_type": "code",
   "execution_count": 46,
   "id": "c8af244f",
   "metadata": {},
   "outputs": [
    {
     "name": "stdout",
     "output_type": "stream",
     "text": [
      "[0. 0. 0. 0. 0.]\n",
      "[0. 0. 0. 0. 0.]\n",
      "[0. 0. 0. 0. 0.]\n"
     ]
    }
   ],
   "source": [
    "for x in list_of_matrices:\n",
    "    print(x[0])"
   ]
  },
  {
   "cell_type": "code",
   "execution_count": 41,
   "id": "6f9f8f95",
   "metadata": {},
   "outputs": [
    {
     "name": "stdout",
     "output_type": "stream",
     "text": [
      "[(0, array([[0., 0., 0., 0., 0.],\n",
      "       [0., 0., 0., 0., 0.],\n",
      "       [0., 0., 0., 0., 0.],\n",
      "       [0., 0., 0., 0., 0.],\n",
      "       [0., 0., 0., 0., 0.]])), (1, array([[0., 0., 0., 0., 0.],\n",
      "       [0., 0., 0., 0., 0.],\n",
      "       [0., 0., 0., 0., 0.],\n",
      "       [0., 0., 0., 0., 0.],\n",
      "       [0., 0., 0., 0., 0.]])), (2, array([[0., 0., 0., 0., 0.],\n",
      "       [0., 0., 0., 0., 0.],\n",
      "       [0., 0., 0., 0., 0.],\n",
      "       [0., 0., 0., 0., 0.],\n",
      "       [0., 0., 0., 0., 0.]]))]\n",
      "[(0, array([[0., 0., 0., 0., 0.],\n",
      "       [0., 0., 0., 0., 0.],\n",
      "       [0., 0., 0., 0., 0.],\n",
      "       [0., 0., 0., 0., 0.],\n",
      "       [0., 0., 0., 0., 0.]])), (1, array([[0., 0., 0., 0., 0.],\n",
      "       [0., 0., 0., 0., 0.],\n",
      "       [0., 0., 0., 0., 0.],\n",
      "       [0., 0., 0., 0., 0.],\n",
      "       [0., 0., 0., 0., 0.]])), (2, array([[0., 0., 0., 0., 0.],\n",
      "       [0., 0., 0., 0., 0.],\n",
      "       [0., 0., 0., 0., 0.],\n",
      "       [0., 0., 0., 0., 0.],\n",
      "       [0., 0., 0., 0., 0.]]))]\n",
      "[(0, array([[0., 0., 0., 0., 0.],\n",
      "       [0., 0., 0., 0., 0.],\n",
      "       [0., 0., 0., 0., 0.],\n",
      "       [0., 0., 0., 0., 0.],\n",
      "       [0., 0., 0., 0., 0.]])), (1, array([[0., 0., 0., 0., 0.],\n",
      "       [0., 0., 0., 0., 0.],\n",
      "       [0., 0., 0., 0., 0.],\n",
      "       [0., 0., 0., 0., 0.],\n",
      "       [0., 0., 0., 0., 0.]])), (2, array([[0., 0., 0., 0., 0.],\n",
      "       [0., 0., 0., 0., 0.],\n",
      "       [0., 0., 0., 0., 0.],\n",
      "       [0., 0., 0., 0., 0.],\n",
      "       [0., 0., 0., 0., 0.]]))]\n"
     ]
    }
   ],
   "source": [
    "for mat_num, matrix in enumerate(list_of_matrices):\n",
    "    #matrix[mat_num - 1] = matrices[mat_num:mat_num + 5]\n",
    "    #a = matrix[mat_num]\n",
    "    print(list(enumerate(list_of_matrices)))\n",
    "    #print(mat_num)\n",
    "    #print(matrix[mat_num])\n",
    "    #print(matrices[mat_num:(mat_num + 5)])"
   ]
  },
  {
   "cell_type": "code",
   "execution_count": 40,
   "id": "148e2d6e",
   "metadata": {},
   "outputs": [
    {
     "data": {
      "text/plain": [
       "array([0., 0., 0., 0., 0.])"
      ]
     },
     "execution_count": 40,
     "metadata": {},
     "output_type": "execute_result"
    }
   ],
   "source": [
    "a"
   ]
  },
  {
   "cell_type": "code",
   "execution_count": 38,
   "id": "b69a14df",
   "metadata": {},
   "outputs": [
    {
     "name": "stdout",
     "output_type": "stream",
     "text": [
      "[[0. 0. 0. 0. 0.]\n",
      " [0. 0. 0. 0. 0.]\n",
      " [0. 0. 0. 0. 0.]\n",
      " [0. 0. 0. 0. 0.]\n",
      " [0. 0. 0. 0. 0.]]\n",
      "[[0. 0. 0. 0. 0.]\n",
      " [0. 0. 0. 0. 0.]\n",
      " [0. 0. 0. 0. 0.]\n",
      " [0. 0. 0. 0. 0.]\n",
      " [0. 0. 0. 0. 0.]]\n",
      "[[0. 0. 0. 0. 0.]\n",
      " [0. 0. 0. 0. 0.]\n",
      " [0. 0. 0. 0. 0.]\n",
      " [0. 0. 0. 0. 0.]\n",
      " [0. 0. 0. 0. 0.]]\n"
     ]
    }
   ],
   "source": [
    "for matrix in list_of_matrices:\n",
    "    print(matrix)"
   ]
  },
  {
   "cell_type": "code",
   "execution_count": 34,
   "id": "d229ade0",
   "metadata": {},
   "outputs": [
    {
     "data": {
      "text/plain": [
       "array([[0., 0., 0., 0., 0.],\n",
       "       [0., 0., 0., 0., 0.],\n",
       "       [0., 0., 0., 0., 0.],\n",
       "       [0., 0., 0., 0., 0.],\n",
       "       [0., 0., 0., 0., 0.]])"
      ]
     },
     "execution_count": 34,
     "metadata": {},
     "output_type": "execute_result"
    }
   ],
   "source": [
    "list_of_matrices[0]"
   ]
  },
  {
   "cell_type": "code",
   "execution_count": 23,
   "id": "6d9aa606",
   "metadata": {},
   "outputs": [
    {
     "data": {
      "text/plain": [
       "array([[[0., 0., 0., 0., 0.],\n",
       "        [0., 0., 0., 0., 0.],\n",
       "        [0., 0., 0., 0., 0.],\n",
       "        [0., 0., 0., 0., 0.],\n",
       "        [0., 0., 0., 0., 0.]],\n",
       "\n",
       "       [[0., 0., 0., 0., 0.],\n",
       "        [0., 0., 0., 0., 0.],\n",
       "        [0., 0., 0., 0., 0.],\n",
       "        [0., 0., 0., 0., 0.],\n",
       "        [0., 0., 0., 0., 0.]],\n",
       "\n",
       "       [[0., 0., 0., 0., 0.],\n",
       "        [0., 0., 0., 0., 0.],\n",
       "        [0., 0., 0., 0., 0.],\n",
       "        [0., 0., 0., 0., 0.],\n",
       "        [0., 0., 0., 0., 0.]]])"
      ]
     },
     "execution_count": 23,
     "metadata": {},
     "output_type": "execute_result"
    }
   ],
   "source": [
    "list_of_matrices[0:]"
   ]
  },
  {
   "cell_type": "code",
   "execution_count": 259,
   "id": "2debbc79",
   "metadata": {},
   "outputs": [
    {
     "data": {
      "text/plain": [
       "[[True, '13', '17', '11', '0'],\n",
       " [True, '2', '23', '4', '24'],\n",
       " [True, '9', '14', '16', '7'],\n",
       " [True, '10', '3', '18', '5'],\n",
       " [True, '12', '20', '15', '19'],\n",
       " [],\n",
       " [True, '15', '0', '2', '22'],\n",
       " [True, '18', '13', '17', '5'],\n",
       " [True, '8', '7', '25', '23'],\n",
       " [True, '11', '10', '24', '4'],\n",
       " [True, '21', '16', '12', '6'],\n",
       " [],\n",
       " [True, '21', '17', '24', '4'],\n",
       " [True, '16', '15', '9', '19'],\n",
       " [True, '8', '23', '26', '20'],\n",
       " [True, '11', '13', '6', '5'],\n",
       " [True, '0', '12', '3', '7']]"
      ]
     },
     "execution_count": 259,
     "metadata": {},
     "output_type": "execute_result"
    }
   ],
   "source": [
    "matrices"
   ]
  },
  {
   "cell_type": "code",
   "execution_count": 260,
   "id": "77b41250",
   "metadata": {},
   "outputs": [],
   "source": [
    "list_of_matrices[0] = matrices[0:5]"
   ]
  },
  {
   "cell_type": "code",
   "execution_count": 261,
   "id": "fc5bdcac",
   "metadata": {},
   "outputs": [],
   "source": [
    "list_of_matrices[1] = matrices[6:11]"
   ]
  },
  {
   "cell_type": "code",
   "execution_count": 262,
   "id": "606ce7be",
   "metadata": {},
   "outputs": [],
   "source": [
    "list_of_matrices[2] = matrices[12:17]"
   ]
  },
  {
   "cell_type": "code",
   "execution_count": null,
   "id": "0df9b38f",
   "metadata": {},
   "outputs": [],
   "source": []
  },
  {
   "cell_type": "code",
   "execution_count": 263,
   "id": "347243db",
   "metadata": {},
   "outputs": [],
   "source": [
    "input_numbers = list_of_lists[0]"
   ]
  },
  {
   "cell_type": "code",
   "execution_count": 264,
   "id": "e62cfe0f",
   "metadata": {},
   "outputs": [
    {
     "data": {
      "text/plain": [
       "['7,4,9,5,11,17,23,2,0,14,21,24,10,16,13,6,15,25,12,22,18,20,8,19,3,26,1']"
      ]
     },
     "execution_count": 264,
     "metadata": {},
     "output_type": "execute_result"
    }
   ],
   "source": [
    "input_numbers"
   ]
  },
  {
   "cell_type": "code",
   "execution_count": 265,
   "id": "c68a25ed",
   "metadata": {
    "scrolled": true
   },
   "outputs": [],
   "source": [
    "test = list_of_lists[2]"
   ]
  },
  {
   "cell_type": "code",
   "execution_count": 266,
   "id": "d5638a27",
   "metadata": {},
   "outputs": [
    {
     "data": {
      "text/plain": [
       "19"
      ]
     },
     "execution_count": 266,
     "metadata": {},
     "output_type": "execute_result"
    }
   ],
   "source": [
    "len(list_of_lists)"
   ]
  },
  {
   "cell_type": "code",
   "execution_count": 267,
   "id": "c1f3240c",
   "metadata": {},
   "outputs": [
    {
     "data": {
      "text/plain": [
       "3.0"
      ]
     },
     "execution_count": 267,
     "metadata": {},
     "output_type": "execute_result"
    }
   ],
   "source": [
    "#Each matrix requires 6 entries in the list. 1 blank entry & 5 rows of numbers.\n",
    "#Total number of matrices is length of the list, - 1 for the input numbers\n",
    "# Divided by 6\n",
    "number_of_matrices = (len(mylist) - 1) / 6 \n",
    "number_of_matrices"
   ]
  },
  {
   "cell_type": "code",
   "execution_count": 268,
   "id": "c1a3c90b",
   "metadata": {},
   "outputs": [
    {
     "name": "stdout",
     "output_type": "stream",
     "text": [
      "['7,4,9,5,11,17,23,2,0,14,21,24,10,16,13,6,15,25,12,22,18,20,8,19,3,26,1']\n",
      "[]\n",
      "[True, '13', '17', '11', '0']\n",
      "[True, '2', '23', '4', '24']\n",
      "[True, '9', '14', '16', '7']\n",
      "[True, '10', '3', '18', '5']\n",
      "[True, '12', '20', '15', '19']\n",
      "[]\n",
      "[True, '15', '0', '2', '22']\n",
      "[True, '18', '13', '17', '5']\n",
      "[True, '8', '7', '25', '23']\n",
      "[True, '11', '10', '24', '4']\n",
      "[True, '21', '16', '12', '6']\n",
      "[]\n",
      "[True, '21', '17', '24', '4']\n",
      "[True, '16', '15', '9', '19']\n",
      "[True, '8', '23', '26', '20']\n",
      "[True, '11', '13', '6', '5']\n",
      "[True, '0', '12', '3', '7']\n"
     ]
    }
   ],
   "source": [
    "for i,row in enumerate(list_of_lists):\n",
    "    print(row)"
   ]
  },
  {
   "cell_type": "code",
   "execution_count": 269,
   "id": "2012e2f0",
   "metadata": {},
   "outputs": [
    {
     "data": {
      "text/plain": [
       "['7,4,9,5,11,17,23,2,0,14,21,24,10,16,13,6,15,25,12,22,18,20,8,19,3,26,1']"
      ]
     },
     "execution_count": 269,
     "metadata": {},
     "output_type": "execute_result"
    }
   ],
   "source": [
    "list_of_lists[0]"
   ]
  },
  {
   "cell_type": "code",
   "execution_count": 270,
   "id": "a4436ed8",
   "metadata": {},
   "outputs": [
    {
     "data": {
      "text/plain": [
       "['7,4,9,5,11,17,23,2,0,14,21,24,10,16,13,6,15,25,12,22,18,20,8,19,3,26,1']"
      ]
     },
     "execution_count": 270,
     "metadata": {},
     "output_type": "execute_result"
    }
   ],
   "source": [
    "list_of_lists[0]"
   ]
  },
  {
   "cell_type": "code",
   "execution_count": null,
   "id": "3614b2d2",
   "metadata": {},
   "outputs": [],
   "source": []
  },
  {
   "cell_type": "code",
   "execution_count": 271,
   "id": "8fcf07f6",
   "metadata": {},
   "outputs": [
    {
     "data": {
      "text/plain": [
       "['7,4,9,5,11,17,23,2,0,14,21,24,10,16,13,6,15,25,12,22,18,20,8,19,3,26,1',\n",
       " '',\n",
       " '22 13 17 11  0',\n",
       " ' 8  2 23  4 24',\n",
       " '21  9 14 16  7',\n",
       " ' 6 10  3 18  5',\n",
       " ' 1 12 20 15 19',\n",
       " '',\n",
       " ' 3 15  0  2 22',\n",
       " ' 9 18 13 17  5',\n",
       " '19  8  7 25 23',\n",
       " '20 11 10 24  4',\n",
       " '14 21 16 12  6',\n",
       " '',\n",
       " '14 21 17 24  4',\n",
       " '10 16 15  9 19',\n",
       " '18  8 23 26 20',\n",
       " '22 11 13  6  5',\n",
       " ' 2  0 12  3  7']"
      ]
     },
     "execution_count": 271,
     "metadata": {},
     "output_type": "execute_result"
    }
   ],
   "source": [
    "mylist"
   ]
  },
  {
   "cell_type": "code",
   "execution_count": 272,
   "id": "dba3d94b",
   "metadata": {},
   "outputs": [],
   "source": [
    "input_numbers = mylist[0]"
   ]
  },
  {
   "cell_type": "code",
   "execution_count": 273,
   "id": "ff56b057",
   "metadata": {},
   "outputs": [
    {
     "data": {
      "text/plain": [
       "'7,4,9,5,11,17,23,2,0,14,21,24,10,16,13,6,15,25,12,22,18,20,8,19,3,26,1'"
      ]
     },
     "execution_count": 273,
     "metadata": {},
     "output_type": "execute_result"
    }
   ],
   "source": [
    "input_numbers"
   ]
  },
  {
   "cell_type": "code",
   "execution_count": 274,
   "id": "d3319a83",
   "metadata": {},
   "outputs": [],
   "source": [
    "#Each matrix requires 6 entries in the list. 1 blank entry & 5 rows of numbers.\n",
    "#Total number of matrices is length of the list, - 1 for the input numbers\n",
    "# Divided by 6\n",
    "number_of_matrices = (len(mylist) - 1) / 6 "
   ]
  },
  {
   "cell_type": "code",
   "execution_count": 275,
   "id": "bb234278",
   "metadata": {},
   "outputs": [
    {
     "data": {
      "text/plain": [
       "3.0"
      ]
     },
     "execution_count": 275,
     "metadata": {},
     "output_type": "execute_result"
    }
   ],
   "source": [
    "number_of_matrices"
   ]
  },
  {
   "cell_type": "code",
   "execution_count": 276,
   "id": "5175553f",
   "metadata": {},
   "outputs": [
    {
     "data": {
      "text/plain": [
       "'22 13 17 11  0'"
      ]
     },
     "execution_count": 276,
     "metadata": {},
     "output_type": "execute_result"
    }
   ],
   "source": [
    "mylist[2]"
   ]
  }
 ],
 "metadata": {
  "kernelspec": {
   "display_name": "Python 3",
   "language": "python",
   "name": "python3"
  },
  "language_info": {
   "codemirror_mode": {
    "name": "ipython",
    "version": 3
   },
   "file_extension": ".py",
   "mimetype": "text/x-python",
   "name": "python",
   "nbconvert_exporter": "python",
   "pygments_lexer": "ipython3",
   "version": "3.8.5"
  }
 },
 "nbformat": 4,
 "nbformat_minor": 5
}
