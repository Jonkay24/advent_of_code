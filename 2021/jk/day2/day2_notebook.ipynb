{
 "cells": [
  {
   "cell_type": "markdown",
   "id": "81cb80c3",
   "metadata": {},
   "source": [
    "# Part 1"
   ]
  },
  {
   "cell_type": "code",
   "execution_count": 90,
   "id": "fc95da27",
   "metadata": {},
   "outputs": [],
   "source": [
    "def sub_position (file):\n",
    "    #Opens the file and converts each new line into a new item in a list\n",
    "    with open(f'{file}') as f:\n",
    "        mylist = f.read().splitlines()\n",
    "    #Sets the initial horizontal and depth positions    \n",
    "    horizontal = 0\n",
    "    depth = 0\n",
    "    #Iterates through the list, looks at the first character to determine forward/down/up\n",
    "    #Applies the movement which is the last character in each string.\n",
    "    for instruction in mylist:\n",
    "        if instruction[0] == 'f':\n",
    "            horizontal =   horizontal + int(instruction[-1])\n",
    "        elif instruction[0] == 'd':\n",
    "            depth = depth + int(instruction [-1])\n",
    "        else:\n",
    "            depth = depth - int(instruction[-1])\n",
    "    print(f'horizontal position is {horizontal}')\n",
    "    print(f'depth is {depth}')\n",
    "    print(f'depth x horizontal is {depth * horizontal}')"
   ]
  },
  {
   "cell_type": "code",
   "execution_count": 91,
   "id": "22364c28",
   "metadata": {},
   "outputs": [
    {
     "name": "stdout",
     "output_type": "stream",
     "text": [
      "horizontal position is 2033\n",
      "depth is 768\n",
      "depth x horizontal is 1561344\n"
     ]
    }
   ],
   "source": [
    "sub_position('day2input.txt')"
   ]
  },
  {
   "cell_type": "code",
   "execution_count": 92,
   "id": "8d090c06",
   "metadata": {},
   "outputs": [
    {
     "name": "stdout",
     "output_type": "stream",
     "text": [
      "horizontal position is 15\n",
      "depth is 10\n",
      "depth x horizontal is 150\n"
     ]
    }
   ],
   "source": [
    "sub_position('input_test.txt')"
   ]
  },
  {
   "cell_type": "markdown",
   "id": "8c393ea4",
   "metadata": {},
   "source": [
    "# Part 2"
   ]
  },
  {
   "cell_type": "code",
   "execution_count": 97,
   "id": "372703f2",
   "metadata": {},
   "outputs": [],
   "source": [
    "def sub_position_aim (file):\n",
    "    #Opens the file and converts each new line into a new item in a list\n",
    "    with open(f'{file}') as f:\n",
    "        mylist = f.read().splitlines()\n",
    "    #Sets the initial horizontal and depth positions    \n",
    "    horizontal = 0\n",
    "    depth = 0\n",
    "    aim = 0 \n",
    "    #Iterates through the list, looks at the first character to determine forward/down/up\n",
    "    #Applies the movement which is the last character in each string.\n",
    "    for instruction in mylist:\n",
    "        if instruction[0] == 'f':\n",
    "            horizontal =   horizontal + int(instruction[-1])\n",
    "            depth = depth + aim * int(instruction[-1])\n",
    "        elif instruction[0] == 'd':\n",
    "            aim = aim + int(instruction[-1])\n",
    "        else:\n",
    "            aim = aim - int(instruction[-1])\n",
    "    print(f'horizontal position is {horizontal}')\n",
    "    print(f'depth is {depth}')\n",
    "    print(f'depth x horizontal is {depth * horizontal}')"
   ]
  },
  {
   "cell_type": "code",
   "execution_count": 98,
   "id": "fca1688e",
   "metadata": {},
   "outputs": [
    {
     "name": "stdout",
     "output_type": "stream",
     "text": [
      "horizontal position is 2033\n",
      "depth is 909225\n",
      "depth x horizontal is 1848454425\n"
     ]
    }
   ],
   "source": [
    "sub_position_aim('day2input.txt')"
   ]
  },
  {
   "cell_type": "code",
   "execution_count": 94,
   "id": "da8975d7",
   "metadata": {},
   "outputs": [
    {
     "name": "stdout",
     "output_type": "stream",
     "text": [
      "horizontal position is 15\n",
      "depth is 60\n",
      "depth x horizontal is 900\n"
     ]
    }
   ],
   "source": [
    "sub_position_aim('input_test.txt')"
   ]
  }
 ],
 "metadata": {
  "kernelspec": {
   "display_name": "Python 3",
   "language": "python",
   "name": "python3"
  },
  "language_info": {
   "codemirror_mode": {
    "name": "ipython",
    "version": 3
   },
   "file_extension": ".py",
   "mimetype": "text/x-python",
   "name": "python",
   "nbconvert_exporter": "python",
   "pygments_lexer": "ipython3",
   "version": "3.8.5"
  }
 },
 "nbformat": 4,
 "nbformat_minor": 5
}
